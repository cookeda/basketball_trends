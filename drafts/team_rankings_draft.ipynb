{
 "cells": [
  {
   "cell_type": "code",
   "execution_count": 23,
   "metadata": {},
   "outputs": [],
   "source": [
    "from selenium import webdriver\n",
    "webdriver.Chrome\n",
    "from selenium.webdriver.chrome.options import Options\n",
    "from bs4 import BeautifulSoup\n",
    "from webdriver_manager.chrome import ChromeDriverManager\n",
    "from selenium.webdriver.chrome.service import Service\n",
    "\n",
    "import json\n",
    "import os\n",
    "\n"
   ]
  },
  {
   "cell_type": "code",
   "execution_count": 27,
   "metadata": {},
   "outputs": [],
   "source": [
    "options = Options()\n",
    "options.add_argument('--headless')\n",
    "options.add_argument(\"--no-sandbox\")\n",
    "options.add_argument(\"--enable-dev-shm-usage\")\n",
    "options.add_argument('log-level=3')\n",
    "options.add_argument('--disable-blink-features=AutomationControlled')\n",
    "options.add_argument(\"--disable-extensions\")\n",
    "options.add_experimental_option('useAutomationExtension', False)\n",
    "options.add_experimental_option(\"excludeSwitches\", [\"enable-automation\"])\n",
    "service = Service(ChromeDriverManager().install())\n",
    "\n",
    "# Initialize WebDriver without the 'desired_capabilities' argument\n",
    "driver = webdriver.Chrome(service=service, options=options)\n"
   ]
  },
  {
   "cell_type": "code",
   "execution_count": 28,
   "metadata": {},
   "outputs": [],
   "source": [
    "driver.get(\"https://www.teamrankings.com/nba/trends/ats_trends/\")"
   ]
  },
  {
   "cell_type": "code",
   "execution_count": 29,
   "metadata": {},
   "outputs": [
    {
     "name": "stdout",
     "output_type": "stream",
     "text": [
      "Element not found: Message: \n",
      "Stacktrace:\n",
      "\tGetHandleVerifier [0x011638B3+24035]\n",
      "\t(No symbol) [0x010EBC44]\n",
      "\t(No symbol) [0x00FCC2D3]\n",
      "\t(No symbol) [0x0100DC86]\n",
      "\t(No symbol) [0x0100DECB]\n",
      "\t(No symbol) [0x0104B9D2]\n",
      "\t(No symbol) [0x0102FED4]\n",
      "\t(No symbol) [0x0104953F]\n",
      "\t(No symbol) [0x0102FC26]\n",
      "\t(No symbol) [0x0100218C]\n",
      "\t(No symbol) [0x0100310D]\n",
      "\tGetHandleVerifier [0x014096D3+2800643]\n",
      "\tGetHandleVerifier [0x0146428E+3172286]\n",
      "\tGetHandleVerifier [0x0145CEA2+3142610]\n",
      "\tGetHandleVerifier [0x01206C60+692624]\n",
      "\t(No symbol) [0x010F4C5D]\n",
      "\t(No symbol) [0x010F1968]\n",
      "\t(No symbol) [0x010F1B00]\n",
      "\t(No symbol) [0x010E3FB0]\n",
      "\tBaseThreadInitThunk [0x75537BA9+25]\n",
      "\tRtlInitializeExceptionChain [0x7777C0CB+107]\n",
      "\tRtlClearBits [0x7777C04F+191]\n",
      "\n"
     ]
    }
   ],
   "source": [
    "from selenium.webdriver.common.by import By\n",
    "from selenium.webdriver.support.ui import WebDriverWait\n",
    "from selenium.webdriver.support import expected_conditions as EC\n",
    "\n",
    "# Restart the driver if needed and open the page\n",
    "driver.get(\"https://www.teamrankings.com/nba/trends/ats_trends/\")\n",
    "\n",
    "\n",
    "#print(driver.page_source)\n",
    "\n",
    "\n",
    "try:\n",
    "    # Wait for the specific element to be present in the DOM\n",
    "    element = WebDriverWait(driver, 10).until(\n",
    "        EC.presence_of_element_located((By.CSS_SELECTOR, '#DataTables_Table_0 > tbody > tr:nth-child(1) > td.nowrap > a'))\n",
    "    )\n",
    "    print(element.text)\n",
    "\n",
    "except Exception as e:\n",
    "    print(f\"Element not found: {e}\")"
   ]
  },
  {
   "cell_type": "code",
   "execution_count": null,
   "metadata": {},
   "outputs": [],
   "source": []
  }
 ],
 "metadata": {
  "kernelspec": {
   "display_name": "sports",
   "language": "python",
   "name": "python3"
  },
  "language_info": {
   "codemirror_mode": {
    "name": "ipython",
    "version": 3
   },
   "file_extension": ".py",
   "mimetype": "text/x-python",
   "name": "python",
   "nbconvert_exporter": "python",
   "pygments_lexer": "ipython3",
   "version": "3.10.15"
  }
 },
 "nbformat": 4,
 "nbformat_minor": 2
}
